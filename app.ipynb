{
 "cells": [
  {
   "cell_type": "markdown",
   "metadata": {},
   "source": [
    "## Implementing Neural Network\n",
    "\n",
    "Kaggle WHO dataset: https://www.kaggle.com/datasets/kumarajarshi/life-expectancy-who/data\n",
    "\n",
    "The data-set aims to answer the following key questions:\n",
    "\n",
    "1. Does various predicting factors which has been chosen initially really affect the Life expectancy? \n",
    "2. What are the predicting variables actually affecting the life expectancy?\n",
    "3. Should a country having a lower life expectancy value(<65) increase its healthcare expenditure in order to improve its average lifespan?\n",
    "4. How does Infant and Adult mortality rates affect life expectancy?\n",
    "5. Does Life Expectancy has positive or negative correlation with eating habits, lifestyle, exercise, smoking, drinking alcohol etc.\n",
    "6. What is the impact of schooling on the lifespan of humans?\n",
    "7. Does Life Expectancy have positive or negative relationship with drinking alcohol?\n",
    "8. Do densely populated countries tend to have lower life expectancy?\n",
    "9. What is the impact of Immunization coverage on life Expectancy?"
   ]
  },
  {
   "cell_type": "markdown",
   "metadata": {},
   "source": [
    "Dataset details:\n",
    "1. Country = Country\n",
    "2. Year = Year of data\n",
    "3. Status = developed/ developing country status\n",
    "4. Life expectancy = life expectancy in age\n",
    "5. Adult Mortality = Adult Mortality Rates of both sexes (probability of dying between 15 and 60 years per 1000 population)\n",
    "6. infant deaths = Number of Infant Deaths per 1000 population\n",
    "7. Alcohol = Alcohol, recorded per capita (15+) consumption (in litres of pure alcohol)\n",
    "8. percentage expenditure = Expenditure on health as a percentage of Gross Domestic Product per capita(%)\n",
    "9. Hepatitis B = Hepatitis B (HepB) immunization coverage among 1-year-olds (%)\n",
    "10. Measles = Measles - number of reported cases per 1000 population\n",
    "11. BMI = Average Body Mass Index of entire population\n",
    "12. under-five deaths = Number of under-five deaths per 1000 population\n",
    "13. Polio = Polio (Pol3) immunization coverage among 1-year-olds (%)\n",
    "14. Total expenditure = General government expenditure on health as a percentage of total government expenditure (%)\n",
    "15. Diphtheria = Diphtheria tetanus toxoid and pertussis (DTP3) immunization coverage among 1-year-olds (%)\n",
    "16. HIV/ AIDS = Deaths per 1 000 live births HIV/AIDS (0-4 years)\n",
    "17. GDP = Gross Domestic Product per capita (in USD)\n",
    "18. Population = Population of the country\n",
    "19. thinnes 1-19 years = Prevalence of thinness among children and adolescents for Age 10 to 19 (% )\n",
    "20. thinnes 5-9 years = Prevalence of thinness among children for Age 5 to 9(%)\n",
    "21. income composition of resources = Human Development Index in terms of income composition of resources (index ranging from 0 to 1)\n",
    "22. Schooling = Number of years of Schooling(years)"
   ]
  },
  {
   "cell_type": "markdown",
   "metadata": {},
   "source": [
    "#### 1. Import data-set and relevant libraries"
   ]
  },
  {
   "cell_type": "code",
   "execution_count": 49,
   "metadata": {},
   "outputs": [],
   "source": [
    "import pandas as pd\n",
    "import numpy as np\n",
    "from sklearn.model_selection import train_test_split\n",
    "from sklearn.compose import ColumnTransformer\n",
    "from sklearn.preprocessing import StandardScaler"
   ]
  },
  {
   "cell_type": "code",
   "execution_count": 50,
   "metadata": {},
   "outputs": [
    {
     "name": "stdout",
     "output_type": "stream",
     "text": [
      "       Country  Year      Status  Life expectancy   Adult Mortality  \\\n",
      "0  Afghanistan  2015  Developing              65.0            263.0   \n",
      "1  Afghanistan  2014  Developing              59.9            271.0   \n",
      "2  Afghanistan  2013  Developing              59.9            268.0   \n",
      "3  Afghanistan  2012  Developing              59.5            272.0   \n",
      "4  Afghanistan  2011  Developing              59.2            275.0   \n",
      "\n",
      "   infant deaths  Alcohol  percentage expenditure  Hepatitis B  Measles   ...  \\\n",
      "0             62     0.01               71.279624         65.0      1154  ...   \n",
      "1             64     0.01               73.523582         62.0       492  ...   \n",
      "2             66     0.01               73.219243         64.0       430  ...   \n",
      "3             69     0.01               78.184215         67.0      2787  ...   \n",
      "4             71     0.01                7.097109         68.0      3013  ...   \n",
      "\n",
      "   Polio  Total expenditure  Diphtheria    HIV/AIDS         GDP  Population  \\\n",
      "0    6.0               8.16         65.0        0.1  584.259210  33736494.0   \n",
      "1   58.0               8.18         62.0        0.1  612.696514    327582.0   \n",
      "2   62.0               8.13         64.0        0.1  631.744976  31731688.0   \n",
      "3   67.0               8.52         67.0        0.1  669.959000   3696958.0   \n",
      "4   68.0               7.87         68.0        0.1   63.537231   2978599.0   \n",
      "\n",
      "    thinness  1-19 years   thinness 5-9 years  \\\n",
      "0                   17.2                 17.3   \n",
      "1                   17.5                 17.5   \n",
      "2                   17.7                 17.7   \n",
      "3                   17.9                 18.0   \n",
      "4                   18.2                 18.2   \n",
      "\n",
      "   Income composition of resources  Schooling  \n",
      "0                            0.479       10.1  \n",
      "1                            0.476       10.0  \n",
      "2                            0.470        9.9  \n",
      "3                            0.463        9.8  \n",
      "4                            0.454        9.5  \n",
      "\n",
      "[5 rows x 22 columns]\n"
     ]
    }
   ],
   "source": [
    "# Load the data\n",
    "data = pd.read_csv('Life Expectancy Data.csv')\n",
    "print(data.head())"
   ]
  },
  {
   "cell_type": "code",
   "execution_count": 51,
   "metadata": {},
   "outputs": [
    {
     "name": "stdout",
     "output_type": "stream",
     "text": [
      "<class 'pandas.core.frame.DataFrame'>\n",
      "RangeIndex: 2938 entries, 0 to 2937\n",
      "Data columns (total 22 columns):\n",
      " #   Column                           Non-Null Count  Dtype  \n",
      "---  ------                           --------------  -----  \n",
      " 0   Country                          2938 non-null   object \n",
      " 1   Year                             2938 non-null   int64  \n",
      " 2   Status                           2938 non-null   object \n",
      " 3   Life expectancy                  2928 non-null   float64\n",
      " 4   Adult Mortality                  2928 non-null   float64\n",
      " 5   infant deaths                    2938 non-null   int64  \n",
      " 6   Alcohol                          2744 non-null   float64\n",
      " 7   percentage expenditure           2938 non-null   float64\n",
      " 8   Hepatitis B                      2385 non-null   float64\n",
      " 9   Measles                          2938 non-null   int64  \n",
      " 10   BMI                             2904 non-null   float64\n",
      " 11  under-five deaths                2938 non-null   int64  \n",
      " 12  Polio                            2919 non-null   float64\n",
      " 13  Total expenditure                2712 non-null   float64\n",
      " 14  Diphtheria                       2919 non-null   float64\n",
      " 15   HIV/AIDS                        2938 non-null   float64\n",
      " 16  GDP                              2490 non-null   float64\n",
      " 17  Population                       2286 non-null   float64\n",
      " 18   thinness  1-19 years            2904 non-null   float64\n",
      " 19   thinness 5-9 years              2904 non-null   float64\n",
      " 20  Income composition of resources  2771 non-null   float64\n",
      " 21  Schooling                        2775 non-null   float64\n",
      "dtypes: float64(16), int64(4), object(2)\n",
      "memory usage: 505.1+ KB\n"
     ]
    }
   ],
   "source": [
    "data.info()"
   ]
  },
  {
   "cell_type": "markdown",
   "metadata": {},
   "source": [
    "#### 2. Preprocessing the dataset"
   ]
  },
  {
   "cell_type": "code",
   "execution_count": 52,
   "metadata": {},
   "outputs": [
    {
     "name": "stdout",
     "output_type": "stream",
     "text": [
      "Country                              0\n",
      "Year                                 0\n",
      "Status                               0\n",
      "Life expectancy                     10\n",
      "Adult Mortality                     10\n",
      "infant deaths                        0\n",
      "Alcohol                            194\n",
      "percentage expenditure               0\n",
      "Hepatitis B                        553\n",
      "Measles                              0\n",
      " BMI                                34\n",
      "under-five deaths                    0\n",
      "Polio                               19\n",
      "Total expenditure                  226\n",
      "Diphtheria                          19\n",
      " HIV/AIDS                            0\n",
      "GDP                                448\n",
      "Population                         652\n",
      " thinness  1-19 years               34\n",
      " thinness 5-9 years                 34\n",
      "Income composition of resources    167\n",
      "Schooling                          163\n",
      "dtype: int64\n"
     ]
    }
   ],
   "source": [
    "# Check for missing values\n",
    "print(data.isnull().sum())"
   ]
  },
  {
   "cell_type": "code",
   "execution_count": 53,
   "metadata": {},
   "outputs": [
    {
     "name": "stdout",
     "output_type": "stream",
     "text": [
      "Index(['country', 'year', 'status', 'life_expectancy', 'adult_mortality',\n",
      "       'infant_deaths', 'alcohol', 'percentage_expenditure', 'hepatitis_b',\n",
      "       'measles', 'bmi', 'under_five_deaths', 'polio', 'total_expenditure',\n",
      "       'diphtheria', 'hiv_aids', 'gdp', 'population', 'thinness_1_19_years',\n",
      "       'thinness_5_9_years', 'income_composition_of_resources', 'schooling'],\n",
      "      dtype='object')\n"
     ]
    }
   ],
   "source": [
    "# Rename columns\n",
    "data.rename(columns = {'Country':'country', 'Year':'year', 'Status':'status', 'Life expectancy ':'life_expectancy', 'Adult Mortality':'adult_mortality', 'infant deaths':'infant_deaths', 'Alcohol':'alcohol', 'percentage expenditure':'percentage_expenditure', 'Hepatitis B':'hepatitis_b', 'Measles ':'measles', ' BMI ':'bmi', 'under-five deaths ':'under_five_deaths', 'Polio':'polio', 'Total expenditure':'total_expenditure', 'Diphtheria ':'diphtheria', ' HIV/AIDS':'hiv_aids', 'GDP':'gdp', 'Population':'population', ' thinness  1-19 years':'thinness_1_19_years', ' thinness 5-9 years':'thinness_5_9_years', 'Income composition of resources':'income_composition_of_resources', 'Schooling':'schooling'}, inplace = True)\n",
    "print(data.columns)"
   ]
  },
  {
   "cell_type": "code",
   "execution_count": 54,
   "metadata": {},
   "outputs": [
    {
     "name": "stdout",
     "output_type": "stream",
     "text": [
      "                    country  year      status  life_expectancy  \\\n",
      "624            Cook Islands  2013  Developing              NaN   \n",
      "769                Dominica  2013  Developing              NaN   \n",
      "1650       Marshall Islands  2013  Developing              NaN   \n",
      "1715                 Monaco  2013  Developing              NaN   \n",
      "1812                  Nauru  2013  Developing              NaN   \n",
      "1909                   Niue  2013  Developing              NaN   \n",
      "1958                  Palau  2013  Developing              NaN   \n",
      "2167  Saint Kitts and Nevis  2013  Developing              NaN   \n",
      "2216             San Marino  2013  Developing              NaN   \n",
      "2713                 Tuvalu  2013  Developing              NaN   \n",
      "\n",
      "      adult_mortality  infant_deaths  alcohol  percentage_expenditure  \\\n",
      "624               NaN              0     0.01                0.000000   \n",
      "769               NaN              0     0.01               11.419555   \n",
      "1650              NaN              0     0.01              871.878317   \n",
      "1715              NaN              0     0.01                0.000000   \n",
      "1812              NaN              0     0.01               15.606596   \n",
      "1909              NaN              0     0.01                0.000000   \n",
      "1958              NaN              0      NaN              344.690631   \n",
      "2167              NaN              0     8.54                0.000000   \n",
      "2216              NaN              0     0.01                0.000000   \n",
      "2713              NaN              0     0.01               78.281203   \n",
      "\n",
      "      hepatitis_b  measles  ...  polio  total_expenditure  diphtheria  \\\n",
      "624          98.0        0  ...   98.0               3.58        98.0   \n",
      "769          96.0        0  ...   96.0               5.58        96.0   \n",
      "1650          8.0        0  ...   79.0              17.24        79.0   \n",
      "1715         99.0        0  ...   99.0               4.30        99.0   \n",
      "1812         87.0        0  ...   87.0               4.65        87.0   \n",
      "1909         99.0        0  ...   99.0               7.20        99.0   \n",
      "1958         99.0        0  ...   99.0               9.27        99.0   \n",
      "2167         97.0        0  ...   96.0               6.14        96.0   \n",
      "2216         69.0        0  ...   69.0               6.50        69.0   \n",
      "2713          9.0        0  ...    9.0              16.61         9.0   \n",
      "\n",
      "      hiv_aids          gdp  population  thinness_1_19_years  \\\n",
      "624        0.1          NaN         NaN                  0.1   \n",
      "769        0.1   722.756650         NaN                  2.7   \n",
      "1650       0.1  3617.752354         NaN                  0.1   \n",
      "1715       0.1          NaN         NaN                  NaN   \n",
      "1812       0.1   136.183210         NaN                  0.1   \n",
      "1909       0.1          NaN         NaN                  0.1   \n",
      "1958       0.1  1932.122370       292.0                  0.1   \n",
      "2167       0.1          NaN         NaN                  3.7   \n",
      "2216       0.1          NaN         NaN                  NaN   \n",
      "2713       0.1  3542.135890      1819.0                  0.2   \n",
      "\n",
      "      thinness_5_9_years  income_composition_of_resources  schooling  \n",
      "624                  0.1                              NaN        NaN  \n",
      "769                  2.6                            0.721       12.7  \n",
      "1650                 0.1                              NaN        0.0  \n",
      "1715                 NaN                              NaN        NaN  \n",
      "1812                 0.1                              NaN        9.6  \n",
      "1909                 0.1                              NaN        NaN  \n",
      "1958                 0.1                            0.779       14.2  \n",
      "2167                 3.6                            0.749       13.4  \n",
      "2216                 NaN                              NaN       15.1  \n",
      "2713                 0.1                              NaN        0.0  \n",
      "\n",
      "[10 rows x 22 columns]\n"
     ]
    }
   ],
   "source": [
    "# Check for life expectancy missing values\n",
    "print(data[data['life_expectancy'].isnull()])\n"
   ]
  },
  {
   "cell_type": "code",
   "execution_count": 55,
   "metadata": {},
   "outputs": [
    {
     "name": "stdout",
     "output_type": "stream",
     "text": [
      "                    country  year      status  life_expectancy  \\\n",
      "624            Cook Islands  2013  Developing              NaN   \n",
      "769                Dominica  2013  Developing              NaN   \n",
      "1650       Marshall Islands  2013  Developing              NaN   \n",
      "1715                 Monaco  2013  Developing              NaN   \n",
      "1812                  Nauru  2013  Developing              NaN   \n",
      "1909                   Niue  2013  Developing              NaN   \n",
      "1958                  Palau  2013  Developing              NaN   \n",
      "2167  Saint Kitts and Nevis  2013  Developing              NaN   \n",
      "2216             San Marino  2013  Developing              NaN   \n",
      "2713                 Tuvalu  2013  Developing              NaN   \n",
      "\n",
      "      adult_mortality  infant_deaths  alcohol  percentage_expenditure  \\\n",
      "624               NaN              0     0.01                0.000000   \n",
      "769               NaN              0     0.01               11.419555   \n",
      "1650              NaN              0     0.01              871.878317   \n",
      "1715              NaN              0     0.01                0.000000   \n",
      "1812              NaN              0     0.01               15.606596   \n",
      "1909              NaN              0     0.01                0.000000   \n",
      "1958              NaN              0      NaN              344.690631   \n",
      "2167              NaN              0     8.54                0.000000   \n",
      "2216              NaN              0     0.01                0.000000   \n",
      "2713              NaN              0     0.01               78.281203   \n",
      "\n",
      "      hepatitis_b  measles  ...  polio  total_expenditure  diphtheria  \\\n",
      "624          98.0        0  ...   98.0               3.58        98.0   \n",
      "769          96.0        0  ...   96.0               5.58        96.0   \n",
      "1650          8.0        0  ...   79.0              17.24        79.0   \n",
      "1715         99.0        0  ...   99.0               4.30        99.0   \n",
      "1812         87.0        0  ...   87.0               4.65        87.0   \n",
      "1909         99.0        0  ...   99.0               7.20        99.0   \n",
      "1958         99.0        0  ...   99.0               9.27        99.0   \n",
      "2167         97.0        0  ...   96.0               6.14        96.0   \n",
      "2216         69.0        0  ...   69.0               6.50        69.0   \n",
      "2713          9.0        0  ...    9.0              16.61         9.0   \n",
      "\n",
      "      hiv_aids          gdp  population  thinness_1_19_years  \\\n",
      "624        0.1          NaN         NaN                  0.1   \n",
      "769        0.1   722.756650         NaN                  2.7   \n",
      "1650       0.1  3617.752354         NaN                  0.1   \n",
      "1715       0.1          NaN         NaN                  NaN   \n",
      "1812       0.1   136.183210         NaN                  0.1   \n",
      "1909       0.1          NaN         NaN                  0.1   \n",
      "1958       0.1  1932.122370       292.0                  0.1   \n",
      "2167       0.1          NaN         NaN                  3.7   \n",
      "2216       0.1          NaN         NaN                  NaN   \n",
      "2713       0.1  3542.135890      1819.0                  0.2   \n",
      "\n",
      "      thinness_5_9_years  income_composition_of_resources  schooling  \n",
      "624                  0.1                              NaN        NaN  \n",
      "769                  2.6                            0.721       12.7  \n",
      "1650                 0.1                              NaN        0.0  \n",
      "1715                 NaN                              NaN        NaN  \n",
      "1812                 0.1                              NaN        9.6  \n",
      "1909                 0.1                              NaN        NaN  \n",
      "1958                 0.1                            0.779       14.2  \n",
      "2167                 3.6                            0.749       13.4  \n",
      "2216                 NaN                              NaN       15.1  \n",
      "2713                 0.1                              NaN        0.0  \n",
      "\n",
      "[10 rows x 22 columns]\n"
     ]
    }
   ],
   "source": [
    "# Check missing adult mortality values\n",
    "print(data[data['adult_mortality'].isnull()])"
   ]
  },
  {
   "cell_type": "markdown",
   "metadata": {},
   "source": [
    "Based on the missing value data, we can see that the missing values for life expectancy and adult mortality are for 2013 data. For this missing 2013, we can use the mean data for this countries."
   ]
  },
  {
   "cell_type": "code",
   "execution_count": 56,
   "metadata": {},
   "outputs": [],
   "source": [
    "# Find mean of life expectancy and adult mortality grouped by country\n",
    "mean_life_expectancy = data.groupby('country')['life_expectancy'].mean()\n",
    "\n",
    "mean_adult_mortality = data.groupby('country')['adult_mortality'].mean()\n",
    "\n",
    "# Fill in missing values for life expectancy and adult mortality\n",
    "if data['life_expectancy'].isnull:\n",
    "    data['life_expectancy'] = data['life_expectancy'].fillna(data['country'].map(mean_life_expectancy))\n",
    "    \n",
    "if data['adult_mortality'].isnull:\n",
    "    data['adult_mortality'] = data['adult_mortality'].fillna(data['country'].map(mean_adult_mortality))\n",
    "                "
   ]
  },
  {
   "cell_type": "code",
   "execution_count": 57,
   "metadata": {},
   "outputs": [
    {
     "name": "stdout",
     "output_type": "stream",
     "text": [
      "nan\n"
     ]
    }
   ],
   "source": [
    "print(mean_life_expectancy['Tuvalu'])"
   ]
  },
  {
   "cell_type": "markdown",
   "metadata": {},
   "source": [
    "Seems like the mean life expectancy for the missing countries are null, so we can just remove them\n"
   ]
  },
  {
   "cell_type": "code",
   "execution_count": 58,
   "metadata": {},
   "outputs": [
    {
     "name": "stdout",
     "output_type": "stream",
     "text": [
      "country                              0\n",
      "year                                 0\n",
      "status                               0\n",
      "life_expectancy                      0\n",
      "adult_mortality                      0\n",
      "infant_deaths                        0\n",
      "alcohol                            193\n",
      "percentage_expenditure               0\n",
      "hepatitis_b                        553\n",
      "measles                              0\n",
      "bmi                                 32\n",
      "under_five_deaths                    0\n",
      "polio                               19\n",
      "total_expenditure                  226\n",
      "diphtheria                          19\n",
      "hiv_aids                             0\n",
      "gdp                                443\n",
      "population                         644\n",
      "thinness_1_19_years                 32\n",
      "thinness_5_9_years                  32\n",
      "income_composition_of_resources    160\n",
      "schooling                          160\n",
      "dtype: int64\n"
     ]
    }
   ],
   "source": [
    "# Remove missing rows for life expectancy and adult mortality\n",
    "data = data.dropna(subset=['life_expectancy', 'adult_mortality'])\n",
    "print(data.isnull().sum())"
   ]
  },
  {
   "cell_type": "code",
   "execution_count": 59,
   "metadata": {},
   "outputs": [
    {
     "name": "stdout",
     "output_type": "stream",
     "text": [
      "       country  year      status  adult_mortality  infant_deaths  alcohol  \\\n",
      "0  Afghanistan  2015  Developing            263.0             62     0.01   \n",
      "1  Afghanistan  2014  Developing            271.0             64     0.01   \n",
      "2  Afghanistan  2013  Developing            268.0             66     0.01   \n",
      "3  Afghanistan  2012  Developing            272.0             69     0.01   \n",
      "4  Afghanistan  2011  Developing            275.0             71     0.01   \n",
      "\n",
      "   percentage_expenditure  hepatitis_b  measles   bmi  ...  polio  \\\n",
      "0               71.279624         65.0     1154  19.1  ...    6.0   \n",
      "1               73.523582         62.0      492  18.6  ...   58.0   \n",
      "2               73.219243         64.0      430  18.1  ...   62.0   \n",
      "3               78.184215         67.0     2787  17.6  ...   67.0   \n",
      "4                7.097109         68.0     3013  17.2  ...   68.0   \n",
      "\n",
      "   total_expenditure  diphtheria  hiv_aids         gdp  population  \\\n",
      "0               8.16        65.0       0.1  584.259210  33736494.0   \n",
      "1               8.18        62.0       0.1  612.696514    327582.0   \n",
      "2               8.13        64.0       0.1  631.744976  31731688.0   \n",
      "3               8.52        67.0       0.1  669.959000   3696958.0   \n",
      "4               7.87        68.0       0.1   63.537231   2978599.0   \n",
      "\n",
      "   thinness_1_19_years  thinness_5_9_years  income_composition_of_resources  \\\n",
      "0                 17.2                17.3                            0.479   \n",
      "1                 17.5                17.5                            0.476   \n",
      "2                 17.7                17.7                            0.470   \n",
      "3                 17.9                18.0                            0.463   \n",
      "4                 18.2                18.2                            0.454   \n",
      "\n",
      "   schooling  \n",
      "0       10.1  \n",
      "1       10.0  \n",
      "2        9.9  \n",
      "3        9.8  \n",
      "4        9.5  \n",
      "\n",
      "[5 rows x 21 columns]\n"
     ]
    }
   ],
   "source": [
    "# Split data into labels and features\n",
    "y = data['life_expectancy']\n",
    "X = data.drop(['life_expectancy'], axis=1)\n",
    "\n",
    "print(X.head())"
   ]
  },
  {
   "cell_type": "code",
   "execution_count": 60,
   "metadata": {},
   "outputs": [],
   "source": [
    "# Convert categorical features to numerical\n",
    "X = pd.get_dummies(X)"
   ]
  },
  {
   "cell_type": "code",
   "execution_count": 61,
   "metadata": {},
   "outputs": [
    {
     "name": "stdout",
     "output_type": "stream",
     "text": [
      "<class 'pandas.core.frame.DataFrame'>\n",
      "<class 'pandas.core.frame.DataFrame'>\n",
      "<class 'pandas.core.frame.DataFrame'>\n",
      "<class 'pandas.core.frame.DataFrame'>\n"
     ]
    }
   ],
   "source": [
    "# Split data into training and test sets\n",
    "X_train, X_test, y_train, y_test = train_test_split(X, y, test_size=0.2, random_state=42)\n",
    "\n",
    "# Convert labels to dataframes\n",
    "y_train = y_train.to_frame()\n",
    "y_test = y_test.to_frame()\n",
    "\n",
    "print(type(X_train))\n",
    "print(type(y_train))\n",
    "print(type(X_test))\n",
    "print(type(y_test))"
   ]
  },
  {
   "cell_type": "code",
   "execution_count": 62,
   "metadata": {},
   "outputs": [],
   "source": [
    "numerical_columns = ['year', 'adult_mortality', 'infant_deaths', 'alcohol', 'percentage_expenditure', 'hepatitis_b', 'measles', 'bmi', 'under_five_deaths', 'polio', 'total_expenditure', 'diphtheria', 'hiv_aids', 'gdp', 'population', 'thinness_1_19_years', 'thinness_5_9_years', 'income_composition_of_resources', 'schooling']  "
   ]
  },
  {
   "cell_type": "code",
   "execution_count": 63,
   "metadata": {},
   "outputs": [],
   "source": [
    "# Standardize the numerical and float data\n",
    "scaler = StandardScaler()\n",
    "ct = ColumnTransformer([('numerical', StandardScaler(), numerical_column)], remainder='passthrough')"
   ]
  },
  {
   "cell_type": "code",
   "execution_count": 69,
   "metadata": {},
   "outputs": [
    {
     "name": "stdout",
     "output_type": "stream",
     "text": [
      "Index(['country', 'year', 'status', 'life_expectancy', 'adult_mortality',\n",
      "       'infant_deaths', 'alcohol', 'percentage_expenditure', 'hepatitis_b',\n",
      "       'measles', 'bmi', 'under_five_deaths', 'polio', 'total_expenditure',\n",
      "       'diphtheria', 'hiv_aids', 'gdp', 'population', 'thinness_1_19_years',\n",
      "       'thinness_5_9_years', 'income_composition_of_resources', 'schooling'],\n",
      "      dtype='object')\n"
     ]
    }
   ],
   "source": [
    "# Strip leading and trailing whitespaces from column names\n",
    "data.columns = data.columns.str.strip()\n",
    "\n",
    "# Verify column names after stripping whitespaces\n",
    "print(data.columns)\n"
   ]
  },
  {
   "cell_type": "code",
   "execution_count": 70,
   "metadata": {},
   "outputs": [
    {
     "ename": "ValueError",
     "evalue": "A given column is not a column of the dataframe",
     "output_type": "error",
     "traceback": [
      "\u001b[1;31m---------------------------------------------------------------------------\u001b[0m",
      "\u001b[1;31mKeyError\u001b[0m                                  Traceback (most recent call last)",
      "File \u001b[1;32mc:\\Users\\chres\\miniconda3\\envs\\myenv\\lib\\site-packages\\pandas\\core\\indexes\\base.py:3653\u001b[0m, in \u001b[0;36mIndex.get_loc\u001b[1;34m(self, key)\u001b[0m\n\u001b[0;32m   3652\u001b[0m \u001b[38;5;28;01mtry\u001b[39;00m:\n\u001b[1;32m-> 3653\u001b[0m     \u001b[38;5;28;01mreturn\u001b[39;00m \u001b[38;5;28;43mself\u001b[39;49m\u001b[38;5;241;43m.\u001b[39;49m\u001b[43m_engine\u001b[49m\u001b[38;5;241;43m.\u001b[39;49m\u001b[43mget_loc\u001b[49m\u001b[43m(\u001b[49m\u001b[43mcasted_key\u001b[49m\u001b[43m)\u001b[49m\n\u001b[0;32m   3654\u001b[0m \u001b[38;5;28;01mexcept\u001b[39;00m \u001b[38;5;167;01mKeyError\u001b[39;00m \u001b[38;5;28;01mas\u001b[39;00m err:\n",
      "File \u001b[1;32mc:\\Users\\chres\\miniconda3\\envs\\myenv\\lib\\site-packages\\pandas\\_libs\\index.pyx:147\u001b[0m, in \u001b[0;36mpandas._libs.index.IndexEngine.get_loc\u001b[1;34m()\u001b[0m\n",
      "File \u001b[1;32mc:\\Users\\chres\\miniconda3\\envs\\myenv\\lib\\site-packages\\pandas\\_libs\\index.pyx:176\u001b[0m, in \u001b[0;36mpandas._libs.index.IndexEngine.get_loc\u001b[1;34m()\u001b[0m\n",
      "File \u001b[1;32mpandas\\_libs\\hashtable_class_helper.pxi:7080\u001b[0m, in \u001b[0;36mpandas._libs.hashtable.PyObjectHashTable.get_item\u001b[1;34m()\u001b[0m\n",
      "File \u001b[1;32mpandas\\_libs\\hashtable_class_helper.pxi:7088\u001b[0m, in \u001b[0;36mpandas._libs.hashtable.PyObjectHashTable.get_item\u001b[1;34m()\u001b[0m\n",
      "\u001b[1;31mKeyError\u001b[0m: 'life_expectancy'",
      "\nThe above exception was the direct cause of the following exception:\n",
      "\u001b[1;31mKeyError\u001b[0m                                  Traceback (most recent call last)",
      "File \u001b[1;32mc:\\Users\\chres\\miniconda3\\envs\\myenv\\lib\\site-packages\\sklearn\\utils\\__init__.py:447\u001b[0m, in \u001b[0;36m_get_column_indices\u001b[1;34m(X, key)\u001b[0m\n\u001b[0;32m    446\u001b[0m \u001b[38;5;28;01mfor\u001b[39;00m col \u001b[38;5;129;01min\u001b[39;00m columns:\n\u001b[1;32m--> 447\u001b[0m     col_idx \u001b[38;5;241m=\u001b[39m \u001b[43mall_columns\u001b[49m\u001b[38;5;241;43m.\u001b[39;49m\u001b[43mget_loc\u001b[49m\u001b[43m(\u001b[49m\u001b[43mcol\u001b[49m\u001b[43m)\u001b[49m\n\u001b[0;32m    448\u001b[0m     \u001b[38;5;28;01mif\u001b[39;00m \u001b[38;5;129;01mnot\u001b[39;00m \u001b[38;5;28misinstance\u001b[39m(col_idx, numbers\u001b[38;5;241m.\u001b[39mIntegral):\n",
      "File \u001b[1;32mc:\\Users\\chres\\miniconda3\\envs\\myenv\\lib\\site-packages\\pandas\\core\\indexes\\base.py:3655\u001b[0m, in \u001b[0;36mIndex.get_loc\u001b[1;34m(self, key)\u001b[0m\n\u001b[0;32m   3654\u001b[0m \u001b[38;5;28;01mexcept\u001b[39;00m \u001b[38;5;167;01mKeyError\u001b[39;00m \u001b[38;5;28;01mas\u001b[39;00m err:\n\u001b[1;32m-> 3655\u001b[0m     \u001b[38;5;28;01mraise\u001b[39;00m \u001b[38;5;167;01mKeyError\u001b[39;00m(key) \u001b[38;5;28;01mfrom\u001b[39;00m \u001b[38;5;21;01merr\u001b[39;00m\n\u001b[0;32m   3656\u001b[0m \u001b[38;5;28;01mexcept\u001b[39;00m \u001b[38;5;167;01mTypeError\u001b[39;00m:\n\u001b[0;32m   3657\u001b[0m     \u001b[38;5;66;03m# If we have a listlike key, _check_indexing_error will raise\u001b[39;00m\n\u001b[0;32m   3658\u001b[0m     \u001b[38;5;66;03m#  InvalidIndexError. Otherwise we fall through and re-raise\u001b[39;00m\n\u001b[0;32m   3659\u001b[0m     \u001b[38;5;66;03m#  the TypeError.\u001b[39;00m\n",
      "\u001b[1;31mKeyError\u001b[0m: 'life_expectancy'",
      "\nThe above exception was the direct cause of the following exception:\n",
      "\u001b[1;31mValueError\u001b[0m                                Traceback (most recent call last)",
      "Cell \u001b[1;32mIn[70], line 2\u001b[0m\n\u001b[0;32m      1\u001b[0m \u001b[38;5;66;03m# Fit the transformer to the training data\u001b[39;00m\n\u001b[1;32m----> 2\u001b[0m \u001b[43mct\u001b[49m\u001b[38;5;241;43m.\u001b[39;49m\u001b[43mfit\u001b[49m\u001b[43m(\u001b[49m\u001b[43mX_train\u001b[49m\u001b[43m)\u001b[49m\n",
      "File \u001b[1;32mc:\\Users\\chres\\miniconda3\\envs\\myenv\\lib\\site-packages\\sklearn\\compose\\_column_transformer.py:706\u001b[0m, in \u001b[0;36mColumnTransformer.fit\u001b[1;34m(self, X, y)\u001b[0m\n\u001b[0;32m    688\u001b[0m \u001b[38;5;250m\u001b[39m\u001b[38;5;124;03m\"\"\"Fit all transformers using X.\u001b[39;00m\n\u001b[0;32m    689\u001b[0m \n\u001b[0;32m    690\u001b[0m \u001b[38;5;124;03mParameters\u001b[39;00m\n\u001b[1;32m   (...)\u001b[0m\n\u001b[0;32m    702\u001b[0m \u001b[38;5;124;03m    This estimator.\u001b[39;00m\n\u001b[0;32m    703\u001b[0m \u001b[38;5;124;03m\"\"\"\u001b[39;00m\n\u001b[0;32m    704\u001b[0m \u001b[38;5;66;03m# we use fit_transform to make sure to set sparse_output_ (for which we\u001b[39;00m\n\u001b[0;32m    705\u001b[0m \u001b[38;5;66;03m# need the transformed data) to have consistent output type in predict\u001b[39;00m\n\u001b[1;32m--> 706\u001b[0m \u001b[38;5;28;43mself\u001b[39;49m\u001b[38;5;241;43m.\u001b[39;49m\u001b[43mfit_transform\u001b[49m\u001b[43m(\u001b[49m\u001b[43mX\u001b[49m\u001b[43m,\u001b[49m\u001b[43m \u001b[49m\u001b[43my\u001b[49m\u001b[38;5;241;43m=\u001b[39;49m\u001b[43my\u001b[49m\u001b[43m)\u001b[49m\n\u001b[0;32m    707\u001b[0m \u001b[38;5;28;01mreturn\u001b[39;00m \u001b[38;5;28mself\u001b[39m\n",
      "File \u001b[1;32mc:\\Users\\chres\\miniconda3\\envs\\myenv\\lib\\site-packages\\sklearn\\utils\\_set_output.py:140\u001b[0m, in \u001b[0;36m_wrap_method_output.<locals>.wrapped\u001b[1;34m(self, X, *args, **kwargs)\u001b[0m\n\u001b[0;32m    138\u001b[0m \u001b[38;5;129m@wraps\u001b[39m(f)\n\u001b[0;32m    139\u001b[0m \u001b[38;5;28;01mdef\u001b[39;00m \u001b[38;5;21mwrapped\u001b[39m(\u001b[38;5;28mself\u001b[39m, X, \u001b[38;5;241m*\u001b[39margs, \u001b[38;5;241m*\u001b[39m\u001b[38;5;241m*\u001b[39mkwargs):\n\u001b[1;32m--> 140\u001b[0m     data_to_wrap \u001b[38;5;241m=\u001b[39m f(\u001b[38;5;28mself\u001b[39m, X, \u001b[38;5;241m*\u001b[39margs, \u001b[38;5;241m*\u001b[39m\u001b[38;5;241m*\u001b[39mkwargs)\n\u001b[0;32m    141\u001b[0m     \u001b[38;5;28;01mif\u001b[39;00m \u001b[38;5;28misinstance\u001b[39m(data_to_wrap, \u001b[38;5;28mtuple\u001b[39m):\n\u001b[0;32m    142\u001b[0m         \u001b[38;5;66;03m# only wrap the first output for cross decomposition\u001b[39;00m\n\u001b[0;32m    143\u001b[0m         return_tuple \u001b[38;5;241m=\u001b[39m (\n\u001b[0;32m    144\u001b[0m             _wrap_data_with_container(method, data_to_wrap[\u001b[38;5;241m0\u001b[39m], X, \u001b[38;5;28mself\u001b[39m),\n\u001b[0;32m    145\u001b[0m             \u001b[38;5;241m*\u001b[39mdata_to_wrap[\u001b[38;5;241m1\u001b[39m:],\n\u001b[0;32m    146\u001b[0m         )\n",
      "File \u001b[1;32mc:\\Users\\chres\\miniconda3\\envs\\myenv\\lib\\site-packages\\sklearn\\base.py:1151\u001b[0m, in \u001b[0;36m_fit_context.<locals>.decorator.<locals>.wrapper\u001b[1;34m(estimator, *args, **kwargs)\u001b[0m\n\u001b[0;32m   1144\u001b[0m     estimator\u001b[38;5;241m.\u001b[39m_validate_params()\n\u001b[0;32m   1146\u001b[0m \u001b[38;5;28;01mwith\u001b[39;00m config_context(\n\u001b[0;32m   1147\u001b[0m     skip_parameter_validation\u001b[38;5;241m=\u001b[39m(\n\u001b[0;32m   1148\u001b[0m         prefer_skip_nested_validation \u001b[38;5;129;01mor\u001b[39;00m global_skip_validation\n\u001b[0;32m   1149\u001b[0m     )\n\u001b[0;32m   1150\u001b[0m ):\n\u001b[1;32m-> 1151\u001b[0m     \u001b[38;5;28;01mreturn\u001b[39;00m fit_method(estimator, \u001b[38;5;241m*\u001b[39margs, \u001b[38;5;241m*\u001b[39m\u001b[38;5;241m*\u001b[39mkwargs)\n",
      "File \u001b[1;32mc:\\Users\\chres\\miniconda3\\envs\\myenv\\lib\\site-packages\\sklearn\\compose\\_column_transformer.py:740\u001b[0m, in \u001b[0;36mColumnTransformer.fit_transform\u001b[1;34m(self, X, y)\u001b[0m\n\u001b[0;32m    738\u001b[0m \u001b[38;5;28mself\u001b[39m\u001b[38;5;241m.\u001b[39m_check_n_features(X, reset\u001b[38;5;241m=\u001b[39m\u001b[38;5;28;01mTrue\u001b[39;00m)\n\u001b[0;32m    739\u001b[0m \u001b[38;5;28mself\u001b[39m\u001b[38;5;241m.\u001b[39m_validate_transformers()\n\u001b[1;32m--> 740\u001b[0m \u001b[38;5;28;43mself\u001b[39;49m\u001b[38;5;241;43m.\u001b[39;49m\u001b[43m_validate_column_callables\u001b[49m\u001b[43m(\u001b[49m\u001b[43mX\u001b[49m\u001b[43m)\u001b[49m\n\u001b[0;32m    741\u001b[0m \u001b[38;5;28mself\u001b[39m\u001b[38;5;241m.\u001b[39m_validate_remainder(X)\n\u001b[0;32m    743\u001b[0m result \u001b[38;5;241m=\u001b[39m \u001b[38;5;28mself\u001b[39m\u001b[38;5;241m.\u001b[39m_fit_transform(X, y, _fit_transform_one)\n",
      "File \u001b[1;32mc:\\Users\\chres\\miniconda3\\envs\\myenv\\lib\\site-packages\\sklearn\\compose\\_column_transformer.py:448\u001b[0m, in \u001b[0;36mColumnTransformer._validate_column_callables\u001b[1;34m(self, X)\u001b[0m\n\u001b[0;32m    446\u001b[0m         columns \u001b[38;5;241m=\u001b[39m columns(X)\n\u001b[0;32m    447\u001b[0m     all_columns\u001b[38;5;241m.\u001b[39mappend(columns)\n\u001b[1;32m--> 448\u001b[0m     transformer_to_input_indices[name] \u001b[38;5;241m=\u001b[39m \u001b[43m_get_column_indices\u001b[49m\u001b[43m(\u001b[49m\u001b[43mX\u001b[49m\u001b[43m,\u001b[49m\u001b[43m \u001b[49m\u001b[43mcolumns\u001b[49m\u001b[43m)\u001b[49m\n\u001b[0;32m    450\u001b[0m \u001b[38;5;28mself\u001b[39m\u001b[38;5;241m.\u001b[39m_columns \u001b[38;5;241m=\u001b[39m all_columns\n\u001b[0;32m    451\u001b[0m \u001b[38;5;28mself\u001b[39m\u001b[38;5;241m.\u001b[39m_transformer_to_input_indices \u001b[38;5;241m=\u001b[39m transformer_to_input_indices\n",
      "File \u001b[1;32mc:\\Users\\chres\\miniconda3\\envs\\myenv\\lib\\site-packages\\sklearn\\utils\\__init__.py:455\u001b[0m, in \u001b[0;36m_get_column_indices\u001b[1;34m(X, key)\u001b[0m\n\u001b[0;32m    452\u001b[0m             column_indices\u001b[38;5;241m.\u001b[39mappend(col_idx)\n\u001b[0;32m    454\u001b[0m     \u001b[38;5;28;01mexcept\u001b[39;00m \u001b[38;5;167;01mKeyError\u001b[39;00m \u001b[38;5;28;01mas\u001b[39;00m e:\n\u001b[1;32m--> 455\u001b[0m         \u001b[38;5;28;01mraise\u001b[39;00m \u001b[38;5;167;01mValueError\u001b[39;00m(\u001b[38;5;124m\"\u001b[39m\u001b[38;5;124mA given column is not a column of the dataframe\u001b[39m\u001b[38;5;124m\"\u001b[39m) \u001b[38;5;28;01mfrom\u001b[39;00m \u001b[38;5;21;01me\u001b[39;00m\n\u001b[0;32m    457\u001b[0m     \u001b[38;5;28;01mreturn\u001b[39;00m column_indices\n\u001b[0;32m    458\u001b[0m \u001b[38;5;28;01melse\u001b[39;00m:\n",
      "\u001b[1;31mValueError\u001b[0m: A given column is not a column of the dataframe"
     ]
    }
   ],
   "source": [
    "# Fit the transformer to the training data\n",
    "ct.fit(X_train)"
   ]
  }
 ],
 "metadata": {
  "kernelspec": {
   "display_name": "myenv",
   "language": "python",
   "name": "python3"
  },
  "language_info": {
   "codemirror_mode": {
    "name": "ipython",
    "version": 3
   },
   "file_extension": ".py",
   "mimetype": "text/x-python",
   "name": "python",
   "nbconvert_exporter": "python",
   "pygments_lexer": "ipython3",
   "version": "3.10.13"
  }
 },
 "nbformat": 4,
 "nbformat_minor": 2
}
