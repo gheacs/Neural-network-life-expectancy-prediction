{
 "cells": [
  {
   "cell_type": "markdown",
   "metadata": {},
   "source": [
    "## Implementing Neural Network\n",
    "\n",
    "Kaggle WHO dataset: https://www.kaggle.com/datasets/kumarajarshi/life-expectancy-who/data\n",
    "\n",
    "The data-set aims to answer the following key questions:\n",
    "\n",
    "1. Does various predicting factors which has been chosen initially really affect the Life expectancy? \n",
    "2. What are the predicting variables actually affecting the life expectancy?\n",
    "3. Should a country having a lower life expectancy value(<65) increase its healthcare expenditure in order to improve its average lifespan?\n",
    "4. How does Infant and Adult mortality rates affect life expectancy?\n",
    "5. Does Life Expectancy has positive or negative correlation with eating habits, lifestyle, exercise, smoking, drinking alcohol etc.\n",
    "6. What is the impact of schooling on the lifespan of humans?\n",
    "7. Does Life Expectancy have positive or negative relationship with drinking alcohol?\n",
    "8. Do densely populated countries tend to have lower life expectancy?\n",
    "9. What is the impact of Immunization coverage on life Expectancy?"
   ]
  },
  {
   "cell_type": "markdown",
   "metadata": {},
   "source": [
    "Dataset details:\n",
    "1. Country = Country\n",
    "2. Year = Year of data\n",
    "3. Status = developed/ developing country status\n",
    "4. Life expectancy = life expectancy in age\n",
    "5. Adult Mortality = Adult Mortality Rates of both sexes (probability of dying between 15 and 60 years per 1000 population)\n",
    "6. infant deaths = Number of Infant Deaths per 1000 population\n",
    "7. Alcohol = Alcohol, recorded per capita (15+) consumption (in litres of pure alcohol)\n",
    "8. percentage expenditure = Expenditure on health as a percentage of Gross Domestic Product per capita(%)\n",
    "9. Hepatitis B = Hepatitis B (HepB) immunization coverage among 1-year-olds (%)\n",
    "10. Measles = Measles - number of reported cases per 1000 population\n",
    "11. BMI = Average Body Mass Index of entire population\n",
    "12. under-five deaths = Number of under-five deaths per 1000 population\n",
    "13. Polio = Polio (Pol3) immunization coverage among 1-year-olds (%)\n",
    "14. Total expenditure = General government expenditure on health as a percentage of total government expenditure (%)\n",
    "15. Diphtheria = Diphtheria tetanus toxoid and pertussis (DTP3) immunization coverage among 1-year-olds (%)\n",
    "16. HIV/ AIDS = Deaths per 1 000 live births HIV/AIDS (0-4 years)\n",
    "17. GDP = Gross Domestic Product per capita (in USD)\n",
    "18. Population = Population of the country\n",
    "19. thinnes 1-19 years = Prevalence of thinness among children and adolescents for Age 10 to 19 (% )\n",
    "20. thinnes 5-9 years = Prevalence of thinness among children for Age 5 to 9(%)\n",
    "21. income composition of resources = Human Development Index in terms of income composition of resources (index ranging from 0 to 1)\n",
    "22. Schooling = Number of years of Schooling(years)"
   ]
  },
  {
   "cell_type": "markdown",
   "metadata": {},
   "source": [
    "#### 1. Import data-set and relevant libraries"
   ]
  },
  {
   "cell_type": "code",
   "execution_count": 1,
   "metadata": {},
   "outputs": [],
   "source": [
    "import pandas as pd\n",
    "import numpy as np"
   ]
  },
  {
   "cell_type": "code",
   "execution_count": 4,
   "metadata": {},
   "outputs": [
    {
     "name": "stdout",
     "output_type": "stream",
     "text": [
      "       Country  Year      Status  Life expectancy   Adult Mortality  \\\n",
      "0  Afghanistan  2015  Developing              65.0            263.0   \n",
      "1  Afghanistan  2014  Developing              59.9            271.0   \n",
      "2  Afghanistan  2013  Developing              59.9            268.0   \n",
      "3  Afghanistan  2012  Developing              59.5            272.0   \n",
      "4  Afghanistan  2011  Developing              59.2            275.0   \n",
      "\n",
      "   infant deaths  Alcohol  percentage expenditure  Hepatitis B  Measles   ...  \\\n",
      "0             62     0.01               71.279624         65.0      1154  ...   \n",
      "1             64     0.01               73.523582         62.0       492  ...   \n",
      "2             66     0.01               73.219243         64.0       430  ...   \n",
      "3             69     0.01               78.184215         67.0      2787  ...   \n",
      "4             71     0.01                7.097109         68.0      3013  ...   \n",
      "\n",
      "   Polio  Total expenditure  Diphtheria    HIV/AIDS         GDP  Population  \\\n",
      "0    6.0               8.16         65.0        0.1  584.259210  33736494.0   \n",
      "1   58.0               8.18         62.0        0.1  612.696514    327582.0   \n",
      "2   62.0               8.13         64.0        0.1  631.744976  31731688.0   \n",
      "3   67.0               8.52         67.0        0.1  669.959000   3696958.0   \n",
      "4   68.0               7.87         68.0        0.1   63.537231   2978599.0   \n",
      "\n",
      "    thinness  1-19 years   thinness 5-9 years  \\\n",
      "0                   17.2                 17.3   \n",
      "1                   17.5                 17.5   \n",
      "2                   17.7                 17.7   \n",
      "3                   17.9                 18.0   \n",
      "4                   18.2                 18.2   \n",
      "\n",
      "   Income composition of resources  Schooling  \n",
      "0                            0.479       10.1  \n",
      "1                            0.476       10.0  \n",
      "2                            0.470        9.9  \n",
      "3                            0.463        9.8  \n",
      "4                            0.454        9.5  \n",
      "\n",
      "[5 rows x 22 columns]\n"
     ]
    }
   ],
   "source": [
    "# Load the data\n",
    "data = pd.read_csv('Life Expectancy Data.csv')\n",
    "print(data.head())"
   ]
  },
  {
   "cell_type": "code",
   "execution_count": 5,
   "metadata": {},
   "outputs": [
    {
     "name": "stdout",
     "output_type": "stream",
     "text": [
      "<class 'pandas.core.frame.DataFrame'>\n",
      "RangeIndex: 2938 entries, 0 to 2937\n",
      "Data columns (total 22 columns):\n",
      " #   Column                           Non-Null Count  Dtype  \n",
      "---  ------                           --------------  -----  \n",
      " 0   Country                          2938 non-null   object \n",
      " 1   Year                             2938 non-null   int64  \n",
      " 2   Status                           2938 non-null   object \n",
      " 3   Life expectancy                  2928 non-null   float64\n",
      " 4   Adult Mortality                  2928 non-null   float64\n",
      " 5   infant deaths                    2938 non-null   int64  \n",
      " 6   Alcohol                          2744 non-null   float64\n",
      " 7   percentage expenditure           2938 non-null   float64\n",
      " 8   Hepatitis B                      2385 non-null   float64\n",
      " 9   Measles                          2938 non-null   int64  \n",
      " 10   BMI                             2904 non-null   float64\n",
      " 11  under-five deaths                2938 non-null   int64  \n",
      " 12  Polio                            2919 non-null   float64\n",
      " 13  Total expenditure                2712 non-null   float64\n",
      " 14  Diphtheria                       2919 non-null   float64\n",
      " 15   HIV/AIDS                        2938 non-null   float64\n",
      " 16  GDP                              2490 non-null   float64\n",
      " 17  Population                       2286 non-null   float64\n",
      " 18   thinness  1-19 years            2904 non-null   float64\n",
      " 19   thinness 5-9 years              2904 non-null   float64\n",
      " 20  Income composition of resources  2771 non-null   float64\n",
      " 21  Schooling                        2775 non-null   float64\n",
      "dtypes: float64(16), int64(4), object(2)\n",
      "memory usage: 505.1+ KB\n"
     ]
    }
   ],
   "source": [
    "data.info()"
   ]
  },
  {
   "cell_type": "markdown",
   "metadata": {},
   "source": [
    "#### 2. Preprocessing the dataset"
   ]
  },
  {
   "cell_type": "code",
   "execution_count": 6,
   "metadata": {},
   "outputs": [
    {
     "name": "stdout",
     "output_type": "stream",
     "text": [
      "Country                              0\n",
      "Year                                 0\n",
      "Status                               0\n",
      "Life expectancy                     10\n",
      "Adult Mortality                     10\n",
      "infant deaths                        0\n",
      "Alcohol                            194\n",
      "percentage expenditure               0\n",
      "Hepatitis B                        553\n",
      "Measles                              0\n",
      " BMI                                34\n",
      "under-five deaths                    0\n",
      "Polio                               19\n",
      "Total expenditure                  226\n",
      "Diphtheria                          19\n",
      " HIV/AIDS                            0\n",
      "GDP                                448\n",
      "Population                         652\n",
      " thinness  1-19 years               34\n",
      " thinness 5-9 years                 34\n",
      "Income composition of resources    167\n",
      "Schooling                          163\n",
      "dtype: int64\n"
     ]
    }
   ],
   "source": [
    "# Check for missing values\n",
    "print(data.isnull().sum())"
   ]
  },
  {
   "cell_type": "code",
   "execution_count": 7,
   "metadata": {},
   "outputs": [
    {
     "name": "stdout",
     "output_type": "stream",
     "text": [
      "Index(['country', 'year', 'status', 'life_expectancy', 'adult_mortality',\n",
      "       'infant_deaths', 'alcohol', 'percentage_expenditure', 'hepatitis_b',\n",
      "       'measles', 'bmi', 'under_five_deaths', 'polio', 'total_expenditure',\n",
      "       'diphtheria', 'hiv_aids', 'gdp', 'population', 'thinness_1_19_years',\n",
      "       'thinness_5_9_years', 'income_composition_of_resources', 'schooling'],\n",
      "      dtype='object')\n"
     ]
    }
   ],
   "source": [
    "# Rename columns\n",
    "data.rename(columns = {'Country':'country', 'Year':'year', 'Status':'status', 'Life expectancy ':'life_expectancy', 'Adult Mortality':'adult_mortality', 'infant deaths':'infant_deaths', 'Alcohol':'alcohol', 'percentage expenditure':'percentage_expenditure', 'Hepatitis B':'hepatitis_b', 'Measles ':'measles', ' BMI ':'bmi', 'under-five deaths ':'under_five_deaths', 'Polio':'polio', 'Total expenditure':'total_expenditure', 'Diphtheria ':'diphtheria', ' HIV/AIDS':'hiv_aids', 'GDP':'gdp', 'Population':'population', ' thinness  1-19 years':'thinness_1_19_years', ' thinness 5-9 years':'thinness_5_9_years', 'Income composition of resources':'income_composition_of_resources', 'Schooling':'schooling'}, inplace = True)\n",
    "print(data.columns)"
   ]
  },
  {
   "cell_type": "code",
   "execution_count": 10,
   "metadata": {},
   "outputs": [
    {
     "name": "stdout",
     "output_type": "stream",
     "text": [
      "                    country  year      status  life_expectancy  \\\n",
      "624            Cook Islands  2013  Developing              NaN   \n",
      "769                Dominica  2013  Developing              NaN   \n",
      "1650       Marshall Islands  2013  Developing              NaN   \n",
      "1715                 Monaco  2013  Developing              NaN   \n",
      "1812                  Nauru  2013  Developing              NaN   \n",
      "1909                   Niue  2013  Developing              NaN   \n",
      "1958                  Palau  2013  Developing              NaN   \n",
      "2167  Saint Kitts and Nevis  2013  Developing              NaN   \n",
      "2216             San Marino  2013  Developing              NaN   \n",
      "2713                 Tuvalu  2013  Developing              NaN   \n",
      "\n",
      "      adult_mortality  infant_deaths  alcohol  percentage_expenditure  \\\n",
      "624               NaN              0     0.01                0.000000   \n",
      "769               NaN              0     0.01               11.419555   \n",
      "1650              NaN              0     0.01              871.878317   \n",
      "1715              NaN              0     0.01                0.000000   \n",
      "1812              NaN              0     0.01               15.606596   \n",
      "1909              NaN              0     0.01                0.000000   \n",
      "1958              NaN              0      NaN              344.690631   \n",
      "2167              NaN              0     8.54                0.000000   \n",
      "2216              NaN              0     0.01                0.000000   \n",
      "2713              NaN              0     0.01               78.281203   \n",
      "\n",
      "      hepatitis_b  measles  ...  polio  total_expenditure  diphtheria  \\\n",
      "624          98.0        0  ...   98.0               3.58        98.0   \n",
      "769          96.0        0  ...   96.0               5.58        96.0   \n",
      "1650          8.0        0  ...   79.0              17.24        79.0   \n",
      "1715         99.0        0  ...   99.0               4.30        99.0   \n",
      "1812         87.0        0  ...   87.0               4.65        87.0   \n",
      "1909         99.0        0  ...   99.0               7.20        99.0   \n",
      "1958         99.0        0  ...   99.0               9.27        99.0   \n",
      "2167         97.0        0  ...   96.0               6.14        96.0   \n",
      "2216         69.0        0  ...   69.0               6.50        69.0   \n",
      "2713          9.0        0  ...    9.0              16.61         9.0   \n",
      "\n",
      "      hiv_aids          gdp  population  thinness_1_19_years  \\\n",
      "624        0.1          NaN         NaN                  0.1   \n",
      "769        0.1   722.756650         NaN                  2.7   \n",
      "1650       0.1  3617.752354         NaN                  0.1   \n",
      "1715       0.1          NaN         NaN                  NaN   \n",
      "1812       0.1   136.183210         NaN                  0.1   \n",
      "1909       0.1          NaN         NaN                  0.1   \n",
      "1958       0.1  1932.122370       292.0                  0.1   \n",
      "2167       0.1          NaN         NaN                  3.7   \n",
      "2216       0.1          NaN         NaN                  NaN   \n",
      "2713       0.1  3542.135890      1819.0                  0.2   \n",
      "\n",
      "      thinness_5_9_years  income_composition_of_resources  schooling  \n",
      "624                  0.1                              NaN        NaN  \n",
      "769                  2.6                            0.721       12.7  \n",
      "1650                 0.1                              NaN        0.0  \n",
      "1715                 NaN                              NaN        NaN  \n",
      "1812                 0.1                              NaN        9.6  \n",
      "1909                 0.1                              NaN        NaN  \n",
      "1958                 0.1                            0.779       14.2  \n",
      "2167                 3.6                            0.749       13.4  \n",
      "2216                 NaN                              NaN       15.1  \n",
      "2713                 0.1                              NaN        0.0  \n",
      "\n",
      "[10 rows x 22 columns]\n"
     ]
    }
   ],
   "source": [
    "# Check for life expectancy missing values\n",
    "print(data[data['life_expectancy'].isnull()])\n"
   ]
  },
  {
   "cell_type": "code",
   "execution_count": 18,
   "metadata": {},
   "outputs": [
    {
     "name": "stdout",
     "output_type": "stream",
     "text": [
      "                    country  year      status  life_expectancy  \\\n",
      "624            Cook Islands  2013  Developing              NaN   \n",
      "769                Dominica  2013  Developing              NaN   \n",
      "1650       Marshall Islands  2013  Developing              NaN   \n",
      "1715                 Monaco  2013  Developing              NaN   \n",
      "1812                  Nauru  2013  Developing              NaN   \n",
      "1909                   Niue  2013  Developing              NaN   \n",
      "1958                  Palau  2013  Developing              NaN   \n",
      "2167  Saint Kitts and Nevis  2013  Developing              NaN   \n",
      "2216             San Marino  2013  Developing              NaN   \n",
      "2713                 Tuvalu  2013  Developing              NaN   \n",
      "\n",
      "      adult_mortality  infant_deaths  alcohol  percentage_expenditure  \\\n",
      "624               NaN              0     0.01                0.000000   \n",
      "769               NaN              0     0.01               11.419555   \n",
      "1650              NaN              0     0.01              871.878317   \n",
      "1715              NaN              0     0.01                0.000000   \n",
      "1812              NaN              0     0.01               15.606596   \n",
      "1909              NaN              0     0.01                0.000000   \n",
      "1958              NaN              0      NaN              344.690631   \n",
      "2167              NaN              0     8.54                0.000000   \n",
      "2216              NaN              0     0.01                0.000000   \n",
      "2713              NaN              0     0.01               78.281203   \n",
      "\n",
      "      hepatitis_b  measles  ...  polio  total_expenditure  diphtheria  \\\n",
      "624          98.0        0  ...   98.0               3.58        98.0   \n",
      "769          96.0        0  ...   96.0               5.58        96.0   \n",
      "1650          8.0        0  ...   79.0              17.24        79.0   \n",
      "1715         99.0        0  ...   99.0               4.30        99.0   \n",
      "1812         87.0        0  ...   87.0               4.65        87.0   \n",
      "1909         99.0        0  ...   99.0               7.20        99.0   \n",
      "1958         99.0        0  ...   99.0               9.27        99.0   \n",
      "2167         97.0        0  ...   96.0               6.14        96.0   \n",
      "2216         69.0        0  ...   69.0               6.50        69.0   \n",
      "2713          9.0        0  ...    9.0              16.61         9.0   \n",
      "\n",
      "      hiv_aids          gdp  population  thinness_1_19_years  \\\n",
      "624        0.1          NaN         NaN                  0.1   \n",
      "769        0.1   722.756650         NaN                  2.7   \n",
      "1650       0.1  3617.752354         NaN                  0.1   \n",
      "1715       0.1          NaN         NaN                  NaN   \n",
      "1812       0.1   136.183210         NaN                  0.1   \n",
      "1909       0.1          NaN         NaN                  0.1   \n",
      "1958       0.1  1932.122370       292.0                  0.1   \n",
      "2167       0.1          NaN         NaN                  3.7   \n",
      "2216       0.1          NaN         NaN                  NaN   \n",
      "2713       0.1  3542.135890      1819.0                  0.2   \n",
      "\n",
      "      thinness_5_9_years  income_composition_of_resources  schooling  \n",
      "624                  0.1                              NaN        NaN  \n",
      "769                  2.6                            0.721       12.7  \n",
      "1650                 0.1                              NaN        0.0  \n",
      "1715                 NaN                              NaN        NaN  \n",
      "1812                 0.1                              NaN        9.6  \n",
      "1909                 0.1                              NaN        NaN  \n",
      "1958                 0.1                            0.779       14.2  \n",
      "2167                 3.6                            0.749       13.4  \n",
      "2216                 NaN                              NaN       15.1  \n",
      "2713                 0.1                              NaN        0.0  \n",
      "\n",
      "[10 rows x 22 columns]\n"
     ]
    }
   ],
   "source": [
    "# Check missing adult mortality values\n",
    "print(data[data['adult_mortality'].isnull()])"
   ]
  },
  {
   "cell_type": "markdown",
   "metadata": {},
   "source": [
    "Based on the missing value data, we can see that the missing values for life expectancy and adult mortality are for 2013 data. For this missing 2013, we can use the median for 2012 and 2014 data."
   ]
  }
 ],
 "metadata": {
  "kernelspec": {
   "display_name": "myenv",
   "language": "python",
   "name": "python3"
  },
  "language_info": {
   "codemirror_mode": {
    "name": "ipython",
    "version": 3
   },
   "file_extension": ".py",
   "mimetype": "text/x-python",
   "name": "python",
   "nbconvert_exporter": "python",
   "pygments_lexer": "ipython3",
   "version": "3.10.13"
  }
 },
 "nbformat": 4,
 "nbformat_minor": 2
}
